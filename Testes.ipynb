{
 "cells": [
  {
   "cell_type": "markdown",
   "metadata": {},
   "source": [
    "## Importando Utilitários"
   ]
  },
  {
   "cell_type": "code",
   "execution_count": 1,
   "metadata": {},
   "outputs": [],
   "source": [
    "import numpy as np\n",
    "import matplotlib.pyplot as plt\n",
    "\n",
    "from morpho_package import * "
   ]
  },
  {
   "cell_type": "markdown",
   "metadata": {},
   "source": [
    "## Gerando imagem para exemplo"
   ]
  },
  {
   "cell_type": "code",
   "execution_count": 2,
   "metadata": {},
   "outputs": [
    {
     "data": {
      "text/plain": [
       "array([[4, 7, 5, 0, 3],\n",
       "       [3, 3, 7, 1, 3],\n",
       "       [5, 2, 4, 7, 6],\n",
       "       [0, 0, 4, 2, 1],\n",
       "       [6, 7, 7, 6, 0]])"
      ]
     },
     "execution_count": 2,
     "metadata": {},
     "output_type": "execute_result"
    },
    {
     "data": {
      "image/png": "[encoded data removed]",
      "text/plain": [
       "<Figure size 640x480 with 1 Axes>"
      ]
     },
     "metadata": {},
     "output_type": "display_data"
    }
   ],
   "source": [
    "np.random.seed(0)\n",
    "img = np.random.randint(0, 8, (5, 5))\n",
    "plt.imshow(img, 'gray')\n",
    "img"
   ]
  },
  {
   "cell_type": "markdown",
   "metadata": {},
   "source": [
    "## Max-tree (Canonizando os pixels)"
   ]
  },
  {
   "cell_type": "code",
   "execution_count": 3,
   "metadata": {},
   "outputs": [
    {
     "data": {
      "text/plain": [
       "'Pixels Canônicos: [24, 19, 18, 4, 17, 10, 2, 14, 23, 7, 21]'"
      ]
     },
     "execution_count": 3,
     "metadata": {},
     "output_type": "execute_result"
    },
    {
     "data": {
      "image/png": "[encoded data removed]",
      "text/plain": [
       "<Figure size 500x500 with 1 Axes>"
      ]
     },
     "metadata": {},
     "output_type": "display_data"
    }
   ],
   "source": [
    "maxtree = MaxTree(img, Adjacency8())\n",
    "maxtree.showParents()\n",
    "f'Pixels Canônicos: {list(maxtree.nodes.keys())}'"
   ]
  },
  {
   "cell_type": "code",
   "execution_count": 4,
   "metadata": {},
   "outputs": [
    {
     "name": "stdout",
     "output_type": "stream",
     "text": [
      "                                \u001b[100m Representant: 24        \u001b[0m\n",
      "                                \u001b[100m Level: 0                \u001b[0m\n",
      "                                \u001b[100m Parent: 24              \u001b[0m\n",
      "                                \u001b[100m CNPs: [24, 3, 16, 15]   \u001b[0m\n",
      "                                \u001b[100m Children Nodes: [19]    \u001b[0m\n",
      "                                \u001b[100m (Top, Left): (0, 0)     \u001b[0m\n",
      "                                \u001b[100m (Bottom, Right): (4, 4) \u001b[0m\n",
      "                                \u001b[100m Area: 25                \u001b[0m\n",
      "                                \u001b[100m Volume: 93              \u001b[0m\n",
      "                                \u001b[100m Height: 5               \u001b[0m\n",
      "                                \u001b[100m Width: 5                \u001b[0m\n",
      "                                            |\n",
      "                                \u001b[100m Representant: 19        \u001b[0m\n",
      "                                \u001b[100m Level: 1                \u001b[0m\n",
      "                                \u001b[100m Parent: 24              \u001b[0m\n",
      "                                \u001b[100m CNPs: [19, 8]           \u001b[0m\n",
      "                                \u001b[100m Children Nodes: [18]    \u001b[0m\n",
      "                                \u001b[100m (Top, Left): (0, 0)     \u001b[0m\n",
      "                                \u001b[100m (Bottom, Right): (4, 4) \u001b[0m\n",
      "                                \u001b[100m Area: 21                \u001b[0m\n",
      "                                \u001b[100m Volume: 93              \u001b[0m\n",
      "                                \u001b[100m Height: 5               \u001b[0m\n",
      "                                \u001b[100m Width: 5                \u001b[0m\n",
      "                                            |\n",
      "                                \u001b[100m Representant: 18        \u001b[0m\n",
      "                                \u001b[100m Level: 2                \u001b[0m\n",
      "                                \u001b[100m Parent: 19              \u001b[0m\n",
      "                                \u001b[100m CNPs: [18, 11]          \u001b[0m\n",
      "                                \u001b[100m Children Nodes: [4]     \u001b[0m\n",
      "                                \u001b[100m (Top, Left): (0, 0)     \u001b[0m\n",
      "                                \u001b[100m (Bottom, Right): (4, 4) \u001b[0m\n",
      "                                \u001b[100m Area: 19                \u001b[0m\n",
      "                                \u001b[100m Volume: 91              \u001b[0m\n",
      "                                \u001b[100m Height: 5               \u001b[0m\n",
      "                                \u001b[100m Width: 5                \u001b[0m\n",
      "                                            |\n",
      "                                \u001b[100m Representant: 4          \u001b[0m\n",
      "                                \u001b[100m Level: 3                 \u001b[0m\n",
      "                                \u001b[100m Parent: 18               \u001b[0m\n",
      "                                \u001b[100m CNPs: [4, 5, 6, 9]       \u001b[0m\n",
      "                                \u001b[100m Children Nodes: [17, 10] \u001b[0m\n",
      "                                \u001b[100m (Top, Left): (0, 0)      \u001b[0m\n",
      "                                \u001b[100m (Bottom, Right): (4, 4)  \u001b[0m\n",
      "                                \u001b[100m Area: 17                 \u001b[0m\n",
      "                                \u001b[100m Volume: 87               \u001b[0m\n",
      "                                \u001b[100m Height: 5                \u001b[0m\n",
      "                                \u001b[100m Width: 5                 \u001b[0m\n",
      "                         ┌──────────────────┴───────────────────┐\n",
      "             \u001b[100m Representant: 17        \u001b[0m              \u001b[100m Representant: 10        \u001b[0m\n",
      "             \u001b[100m Level: 4                \u001b[0m              \u001b[100m Level: 5                \u001b[0m\n",
      "             \u001b[100m Parent: 4               \u001b[0m              \u001b[100m Parent: 4               \u001b[0m\n",
      "             \u001b[100m CNPs: [17, 0, 12]       \u001b[0m              \u001b[100m CNPs: [10]              \u001b[0m\n",
      "             \u001b[100m Children Nodes: [2, 23] \u001b[0m              \u001b[100m Children Nodes: []      \u001b[0m\n",
      "             \u001b[100m (Top, Left): (0, 0)     \u001b[0m              \u001b[100m (Top, Left): (2, 0)     \u001b[0m\n",
      "             \u001b[100m (Bottom, Right): (4, 4) \u001b[0m              \u001b[100m (Bottom, Right): (2, 0) \u001b[0m\n",
      "             \u001b[100m Area: 12                \u001b[0m              \u001b[100m Area: 1                 \u001b[0m\n",
      "             \u001b[100m Volume: 70              \u001b[0m              \u001b[100m Volume: 5               \u001b[0m\n",
      "             \u001b[100m Height: 5               \u001b[0m              \u001b[100m Height: 1               \u001b[0m\n",
      "             \u001b[100m Width: 5                \u001b[0m              \u001b[100m Width: 1                \u001b[0m\n",
      "            ┌────────────┴────────────┐                                      \n",
      "\u001b[100m Representant: 2         \u001b[0m \u001b[100m Representant: 23        \u001b[0m                          \n",
      "\u001b[100m Level: 5                \u001b[0m \u001b[100m Level: 6                \u001b[0m                          \n",
      "\u001b[100m Parent: 17              \u001b[0m \u001b[100m Parent: 17              \u001b[0m                          \n",
      "\u001b[100m CNPs: [2]               \u001b[0m \u001b[100m CNPs: [23, 20]          \u001b[0m                          \n",
      "\u001b[100m Children Nodes: [14]    \u001b[0m \u001b[100m Children Nodes: [21]    \u001b[0m                          \n",
      "\u001b[100m (Top, Left): (0, 1)     \u001b[0m \u001b[100m (Top, Left): (4, 0)     \u001b[0m                          \n",
      "\u001b[100m (Bottom, Right): (2, 4) \u001b[0m \u001b[100m (Bottom, Right): (4, 3) \u001b[0m                          \n",
      "\u001b[100m Area: 5                 \u001b[0m \u001b[100m Area: 4                 \u001b[0m                          \n",
      "\u001b[100m Volume: 32              \u001b[0m \u001b[100m Volume: 26              \u001b[0m                          \n",
      "\u001b[100m Height: 3               \u001b[0m \u001b[100m Height: 1               \u001b[0m                          \n",
      "\u001b[100m Width: 4                \u001b[0m \u001b[100m Width: 4                \u001b[0m                          \n",
      "            |                         |                                      \n",
      "\u001b[100m Representant: 14        \u001b[0m \u001b[100m Representant: 21        \u001b[0m                          \n",
      "\u001b[100m Level: 6                \u001b[0m \u001b[100m Level: 7                \u001b[0m                          \n",
      "\u001b[100m Parent: 2               \u001b[0m \u001b[100m Parent: 23              \u001b[0m                          \n",
      "\u001b[100m CNPs: [14]              \u001b[0m \u001b[100m CNPs: [21, 22]          \u001b[0m                          \n",
      "\u001b[100m Children Nodes: [7]     \u001b[0m \u001b[100m Children Nodes: []      \u001b[0m                          \n",
      "\u001b[100m (Top, Left): (0, 1)     \u001b[0m \u001b[100m (Top, Left): (4, 1)     \u001b[0m                          \n",
      "\u001b[100m (Bottom, Right): (2, 4) \u001b[0m \u001b[100m (Bottom, Right): (4, 2) \u001b[0m                          \n",
      "\u001b[100m Area: 4                 \u001b[0m \u001b[100m Area: 2                 \u001b[0m                          \n",
      "\u001b[100m Volume: 27              \u001b[0m \u001b[100m Volume: 14              \u001b[0m                          \n",
      "\u001b[100m Height: 3               \u001b[0m \u001b[100m Height: 1               \u001b[0m                          \n",
      "\u001b[100m Width: 4                \u001b[0m \u001b[100m Width: 2                \u001b[0m                          \n",
      "            |                                                                \n",
      "\u001b[100m Representant: 7         \u001b[0m                                                    \n",
      "\u001b[100m Level: 7                \u001b[0m                                                    \n",
      "\u001b[100m Parent: 14              \u001b[0m                                                    \n",
      "\u001b[100m CNPs: [7, 1, 13]        \u001b[0m                                                    \n",
      "\u001b[100m Children Nodes: []      \u001b[0m                                                    \n",
      "\u001b[100m (Top, Left): (0, 1)     \u001b[0m                                                    \n",
      "\u001b[100m (Bottom, Right): (2, 3) \u001b[0m                                                    \n",
      "\u001b[100m Area: 3                 \u001b[0m                                                    \n",
      "\u001b[100m Volume: 21              \u001b[0m                                                    \n",
      "\u001b[100m Height: 3               \u001b[0m                                                    \n",
      "\u001b[100m Width: 3                \u001b[0m\n"
     ]
    }
   ],
   "source": [
    "maxtree.displayTree()"
   ]
  },
  {
   "cell_type": "markdown",
   "metadata": {},
   "source": [
    "## Min-Tree (Canonizando os pixels)"
   ]
  },
  {
   "cell_type": "code",
   "execution_count": 5,
   "metadata": {},
   "outputs": [
    {
     "data": {
      "text/plain": [
       "'Pixels Canônicos: [13, 20, 2, 12, 9, 6, 11, 18, 8, 19, 15, 3, 24]'"
      ]
     },
     "execution_count": 5,
     "metadata": {},
     "output_type": "execute_result"
    },
    {
     "data": {
      "image/png": "[encoded data removed]",
      "text/plain": [
       "<Figure size 500x500 with 1 Axes>"
      ]
     },
     "metadata": {},
     "output_type": "display_data"
    }
   ],
   "source": [
    "mintree = MinTree(img, Adjacency8())\n",
    "mintree.showParents()\n",
    "f'Pixels Canônicos: {list(mintree.nodes.keys())}'"
   ]
  },
  {
   "cell_type": "code",
   "execution_count": 6,
   "metadata": {},
   "outputs": [
    {
     "name": "stdout",
     "output_type": "stream",
     "text": [
      "                          \u001b[100m Representant: 13         \u001b[0m\n",
      "                          \u001b[100m Level: 7                 \u001b[0m\n",
      "                          \u001b[100m Parent: 13               \u001b[0m\n",
      "                          \u001b[100m CNPs: [13, 22, 21, 1, 7] \u001b[0m\n",
      "                          \u001b[100m Children Nodes: [20]     \u001b[0m\n",
      "                          \u001b[100m (Top, Left): (0, 0)      \u001b[0m\n",
      "                          \u001b[100m (Bottom, Right): (4, 4)  \u001b[0m\n",
      "                          \u001b[100m Area: 25                 \u001b[0m\n",
      "                          \u001b[100m Volume: 93               \u001b[0m\n",
      "                          \u001b[100m Height: 5                \u001b[0m\n",
      "                          \u001b[100m Width: 5                 \u001b[0m\n",
      "                                      |\n",
      "                          \u001b[100m Representant: 20        \u001b[0m\n",
      "                          \u001b[100m Level: 6                \u001b[0m\n",
      "                          \u001b[100m Parent: 13              \u001b[0m\n",
      "                          \u001b[100m CNPs: [20, 23, 14]      \u001b[0m\n",
      "                          \u001b[100m Children Nodes: [2]     \u001b[0m\n",
      "                          \u001b[100m (Top, Left): (0, 0)     \u001b[0m\n",
      "                          \u001b[100m (Bottom, Right): (4, 4) \u001b[0m\n",
      "                          \u001b[100m Area: 20                \u001b[0m\n",
      "                          \u001b[100m Volume: 58              \u001b[0m\n",
      "                          \u001b[100m Height: 5               \u001b[0m\n",
      "                          \u001b[100m Width: 5                \u001b[0m\n",
      "                                      |\n",
      "                          \u001b[100m Representant: 2         \u001b[0m\n",
      "                          \u001b[100m Level: 5                \u001b[0m\n",
      "                          \u001b[100m Parent: 20              \u001b[0m\n",
      "                          \u001b[100m CNPs: [2, 10]           \u001b[0m\n",
      "                          \u001b[100m Children Nodes: [12]    \u001b[0m\n",
      "                          \u001b[100m (Top, Left): (0, 0)     \u001b[0m\n",
      "                          \u001b[100m (Bottom, Right): (4, 4) \u001b[0m\n",
      "                          \u001b[100m Area: 17                \u001b[0m\n",
      "                          \u001b[100m Volume: 40              \u001b[0m\n",
      "                          \u001b[100m Height: 5               \u001b[0m\n",
      "                          \u001b[100m Width: 5                \u001b[0m\n",
      "                                      |\n",
      "                         \u001b[100m Representant: 12           \u001b[0m\n",
      "                         \u001b[100m Level: 4                   \u001b[0m\n",
      "                         \u001b[100m Parent: 2                  \u001b[0m\n",
      "                         \u001b[100m CNPs: [12, 0, 17]          \u001b[0m\n",
      "                         \u001b[100m Children Nodes: [9, 6, 18] \u001b[0m\n",
      "                         \u001b[100m (Top, Left): (0, 0)        \u001b[0m\n",
      "                         \u001b[100m (Bottom, Right): (4, 4)    \u001b[0m\n",
      "                         \u001b[100m Area: 15                   \u001b[0m\n",
      "                         \u001b[100m Volume: 30                 \u001b[0m\n",
      "                         \u001b[100m Height: 5                  \u001b[0m\n",
      "                         \u001b[100m Width: 5                   \u001b[0m\n",
      "            ┌─────────────────────────┼─────────────────────────┐\n",
      "\u001b[100m Representant: 9         \u001b[0m \u001b[100m Representant: 6         \u001b[0m \u001b[100m Representant: 18        \u001b[0m\n",
      "\u001b[100m Level: 3                \u001b[0m \u001b[100m Level: 3                \u001b[0m \u001b[100m Level: 2                \u001b[0m\n",
      "\u001b[100m Parent: 12              \u001b[0m \u001b[100m Parent: 12              \u001b[0m \u001b[100m Parent: 12              \u001b[0m\n",
      "\u001b[100m CNPs: [9, 4]            \u001b[0m \u001b[100m CNPs: [6, 5]            \u001b[0m \u001b[100m CNPs: [18]              \u001b[0m\n",
      "\u001b[100m Children Nodes: [8]     \u001b[0m \u001b[100m Children Nodes: [11]    \u001b[0m \u001b[100m Children Nodes: [19]    \u001b[0m\n",
      "\u001b[100m (Top, Left): (0, 3)     \u001b[0m \u001b[100m (Top, Left): (1, 0)     \u001b[0m \u001b[100m (Top, Left): (3, 3)     \u001b[0m\n",
      "\u001b[100m (Bottom, Right): (1, 4) \u001b[0m \u001b[100m (Bottom, Right): (3, 1) \u001b[0m \u001b[100m (Bottom, Right): (4, 4) \u001b[0m\n",
      "\u001b[100m Area: 4                 \u001b[0m \u001b[100m Area: 5                 \u001b[0m \u001b[100m Area: 3                 \u001b[0m\n",
      "\u001b[100m Volume: 7               \u001b[0m \u001b[100m Volume: 8               \u001b[0m \u001b[100m Volume: 3               \u001b[0m\n",
      "\u001b[100m Height: 2               \u001b[0m \u001b[100m Height: 3               \u001b[0m \u001b[100m Height: 2               \u001b[0m\n",
      "\u001b[100m Width: 2                \u001b[0m \u001b[100m Width: 2                \u001b[0m \u001b[100m Width: 2                \u001b[0m\n",
      "            |                         |                         |            \n",
      "\u001b[100m Representant: 8         \u001b[0m \u001b[100m Representant: 11        \u001b[0m \u001b[100m Representant: 19        \u001b[0m\n",
      "\u001b[100m Level: 1                \u001b[0m \u001b[100m Level: 2                \u001b[0m \u001b[100m Level: 1                \u001b[0m\n",
      "\u001b[100m Parent: 9               \u001b[0m \u001b[100m Parent: 6               \u001b[0m \u001b[100m Parent: 18              \u001b[0m\n",
      "\u001b[100m CNPs: [8]               \u001b[0m \u001b[100m CNPs: [11]              \u001b[0m \u001b[100m CNPs: [19]              \u001b[0m\n",
      "\u001b[100m Children Nodes: [3]     \u001b[0m \u001b[100m Children Nodes: [15]    \u001b[0m \u001b[100m Children Nodes: [24]    \u001b[0m\n",
      "\u001b[100m (Top, Left): (0, 3)     \u001b[0m \u001b[100m (Top, Left): (2, 0)     \u001b[0m \u001b[100m (Top, Left): (3, 4)     \u001b[0m\n",
      "\u001b[100m (Bottom, Right): (1, 3) \u001b[0m \u001b[100m (Bottom, Right): (3, 1) \u001b[0m \u001b[100m (Bottom, Right): (4, 4) \u001b[0m\n",
      "\u001b[100m Area: 2                 \u001b[0m \u001b[100m Area: 3                 \u001b[0m \u001b[100m Area: 2                 \u001b[0m\n",
      "\u001b[100m Volume: 1               \u001b[0m \u001b[100m Volume: 2               \u001b[0m \u001b[100m Volume: 1               \u001b[0m\n",
      "\u001b[100m Height: 2               \u001b[0m \u001b[100m Height: 2               \u001b[0m \u001b[100m Height: 2               \u001b[0m\n",
      "\u001b[100m Width: 1                \u001b[0m \u001b[100m Width: 2                \u001b[0m \u001b[100m Width: 1                \u001b[0m\n",
      "            |                         |                         |            \n",
      "\u001b[100m Representant: 3         \u001b[0m \u001b[100m Representant: 15        \u001b[0m \u001b[100m Representant: 24        \u001b[0m\n",
      "\u001b[100m Level: 0                \u001b[0m \u001b[100m Level: 0                \u001b[0m \u001b[100m Level: 0                \u001b[0m\n",
      "\u001b[100m Parent: 8               \u001b[0m \u001b[100m Parent: 11              \u001b[0m \u001b[100m Parent: 19              \u001b[0m\n",
      "\u001b[100m CNPs: [3]               \u001b[0m \u001b[100m CNPs: [15, 16]          \u001b[0m \u001b[100m CNPs: [24]              \u001b[0m\n",
      "\u001b[100m Children Nodes: []      \u001b[0m \u001b[100m Children Nodes: []      \u001b[0m \u001b[100m Children Nodes: []      \u001b[0m\n",
      "\u001b[100m (Top, Left): (0, 3)     \u001b[0m \u001b[100m (Top, Left): (3, 0)     \u001b[0m \u001b[100m (Top, Left): (4, 4)     \u001b[0m\n",
      "\u001b[100m (Bottom, Right): (0, 3) \u001b[0m \u001b[100m (Bottom, Right): (3, 1) \u001b[0m \u001b[100m (Bottom, Right): (4, 4) \u001b[0m\n",
      "\u001b[100m Area: 1                 \u001b[0m \u001b[100m Area: 2                 \u001b[0m \u001b[100m Area: 1                 \u001b[0m\n",
      "\u001b[100m Volume: 0               \u001b[0m \u001b[100m Volume: 0               \u001b[0m \u001b[100m Volume: 0               \u001b[0m\n",
      "\u001b[100m Height: 1               \u001b[0m \u001b[100m Height: 1               \u001b[0m \u001b[100m Height: 1               \u001b[0m\n",
      "\u001b[100m Width: 1                \u001b[0m \u001b[100m Width: 2                \u001b[0m \u001b[100m Width: 1                \u001b[0m\n"
     ]
    }
   ],
   "source": [
    "mintree.displayTree()"
   ]
  }
 ],
 "metadata": {
  "kernelspec": {
   "display_name": "morfologia",
   "language": "python",
   "name": "python3"
  },
  "language_info": {
   "codemirror_mode": {
    "name": "ipython",
    "version": 3
   },
   "file_extension": ".py",
   "mimetype": "text/x-python",
   "name": "python",
   "nbconvert_exporter": "python",
   "pygments_lexer": "ipython3",
   "version": "3.11.7"
  }
 },
 "nbformat": 4,
 "nbformat_minor": 2
}
